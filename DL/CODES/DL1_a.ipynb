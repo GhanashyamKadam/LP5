{
 "cells": [
  {
   "cell_type": "code",
   "execution_count": 1,
   "id": "c0fc079f-c097-43d4-b952-d0c5c787c426",
   "metadata": {},
   "outputs": [],
   "source": [
    "import numpy as np\n",
    "import pandas as pd\n",
    "from sklearn.model_selection import train_test_split\n",
    "from sklearn.preprocessing import StandardScaler\n",
    "import matplotlib.pyplot as plt"
   ]
  },
  {
   "cell_type": "code",
   "execution_count": 3,
   "id": "0a829cd5-9bdc-41a9-84c3-1c7d36485dc4",
   "metadata": {},
   "outputs": [],
   "source": [
    "# Load and clean data\n",
    "data = pd.read_csv(\"HousingData.csv\")\n",
    "data = data.dropna()  # or fillna(data.mean())"
   ]
  },
  {
   "cell_type": "code",
   "execution_count": 5,
   "id": "2d002da2-c1a3-4867-ad8f-fc5a0f146846",
   "metadata": {},
   "outputs": [],
   "source": [
    "# Split features and target\n",
    "X = data.drop(\"MEDV\", axis=1).values\n",
    "y = data[\"MEDV\"].values.reshape(-1, 1)"
   ]
  },
  {
   "cell_type": "code",
   "execution_count": 7,
   "id": "286a873d-25e8-4879-b9ca-4ebe7a36a842",
   "metadata": {},
   "outputs": [],
   "source": [
    "# Normalize features and target\n",
    "scaler_X = StandardScaler()\n",
    "scaler_y = StandardScaler()\n",
    "X = scaler_X.fit_transform(X)\n",
    "y = scaler_y.fit_transform(y)"
   ]
  },
  {
   "cell_type": "code",
   "execution_count": 9,
   "id": "a15f303d-0c16-4f73-b46d-9713d4f6a271",
   "metadata": {},
   "outputs": [],
   "source": [
    "# Train-test split\n",
    "X_train, X_test, y_train, y_test = train_test_split(X, y, test_size=0.2, random_state=42)"
   ]
  },
  {
   "cell_type": "code",
   "execution_count": 11,
   "id": "18b36a3e-788d-475c-bfa4-663f34a80a2d",
   "metadata": {},
   "outputs": [],
   "source": [
    "# Define layer sizes\n",
    "input_size = X.shape[1]\n",
    "hidden1_size = 64\n",
    "hidden2_size = 32\n",
    "output_size = 1\n",
    "learning_rate = 0.001\n",
    "epochs = 1000\n"
   ]
  },
  {
   "cell_type": "code",
   "execution_count": 13,
   "id": "a028a7bd-5046-4c9e-a780-92540013b4c4",
   "metadata": {},
   "outputs": [],
   "source": [
    "# Weight initialization\n",
    "np.random.seed(0)\n",
    "W1 = np.random.randn(input_size, hidden1_size) * 0.01\n",
    "b1 = np.zeros((1, hidden1_size))\n",
    "\n",
    "W2 = np.random.randn(hidden1_size, hidden2_size) * 0.01\n",
    "b2 = np.zeros((1, hidden2_size))\n",
    "\n",
    "W3 = np.random.randn(hidden2_size, output_size) * 0.01\n",
    "b3 = np.zeros((1, output_size))"
   ]
  },
  {
   "cell_type": "code",
   "execution_count": 15,
   "id": "2df76e04-c994-48ad-b1b8-b75e1c7bf9ca",
   "metadata": {},
   "outputs": [],
   "source": [
    "# Activation functions\n",
    "def relu(Z):\n",
    "    return np.maximum(0, Z)\n",
    "\n",
    "def relu_derivative(Z):\n",
    "    return Z > 0\n",
    "\n",
    "def mse_loss(y_true, y_pred):\n",
    "    return np.mean((y_true - y_pred) ** 2)"
   ]
  },
  {
   "cell_type": "code",
   "execution_count": 17,
   "id": "ce81f6aa-fc9a-4ad8-9902-4153482d6585",
   "metadata": {},
   "outputs": [
    {
     "name": "stdout",
     "output_type": "stream",
     "text": [
      "Epoch 0, Loss: 0.9907\n",
      "Epoch 100, Loss: 0.9904\n",
      "Epoch 200, Loss: 0.9901\n",
      "Epoch 300, Loss: 0.9899\n",
      "Epoch 400, Loss: 0.9897\n",
      "Epoch 500, Loss: 0.9896\n",
      "Epoch 600, Loss: 0.9895\n",
      "Epoch 700, Loss: 0.9894\n",
      "Epoch 800, Loss: 0.9893\n",
      "Epoch 900, Loss: 0.9892\n"
     ]
    }
   ],
   "source": [
    "# Training loop\n",
    "for epoch in range(epochs):\n",
    "    # Forward pass\n",
    "    Z1 = X_train @ W1 + b1\n",
    "    A1 = relu(Z1)\n",
    "    \n",
    "    Z2 = A1 @ W2 + b2\n",
    "    A2 = relu(Z2)\n",
    "    \n",
    "    Z3 = A2 @ W3 + b3\n",
    "    y_pred = Z3  # No activation in output layer\n",
    "\n",
    "    # Loss\n",
    "    loss = mse_loss(y_train, y_pred)\n",
    "\n",
    "    # Backward pass\n",
    "    dZ3 = (y_pred - y_train) / y_train.shape[0]\n",
    "    dW3 = A2.T @ dZ3\n",
    "    db3 = np.sum(dZ3, axis=0, keepdims=True)\n",
    "\n",
    "    dA2 = dZ3 @ W3.T\n",
    "    dZ2 = dA2 * relu_derivative(Z2)\n",
    "    dW2 = A1.T @ dZ2\n",
    "    db2 = np.sum(dZ2, axis=0, keepdims=True)\n",
    "\n",
    "    dA1 = dZ2 @ W2.T\n",
    "    dZ1 = dA1 * relu_derivative(Z1)\n",
    "    dW1 = X_train.T @ dZ1\n",
    "    db1 = np.sum(dZ1, axis=0, keepdims=True)\n",
    "\n",
    "    # Update weights\n",
    "    W3 -= learning_rate * dW3\n",
    "    b3 -= learning_rate * db3\n",
    "    W2 -= learning_rate * dW2\n",
    "    b2 -= learning_rate * db2\n",
    "    W1 -= learning_rate * dW1\n",
    "    b1 -= learning_rate * db1\n",
    "\n",
    "    if epoch % 100 == 0:\n",
    "        print(f\"Epoch {epoch}, Loss: {loss:.4f}\")"
   ]
  },
  {
   "cell_type": "code",
   "execution_count": 19,
   "id": "df2eb5bf-0dfb-463a-9a65-53ea97366384",
   "metadata": {},
   "outputs": [],
   "source": [
    "# Predict on test set\n",
    "Z1_test = X_test @ W1 + b1\n",
    "A1_test = relu(Z1_test)\n",
    "Z2_test = A1_test @ W2 + b2\n",
    "A2_test = relu(Z2_test)\n",
    "Z3_test = A2_test @ W3 + b3\n",
    "y_test_pred = Z3_test\n",
    "\n",
    "# Invert scaling\n",
    "y_test_actual = scaler_y.inverse_transform(y_test)\n",
    "y_pred_actual = scaler_y.inverse_transform(y_test_pred)\n"
   ]
  },
  {
   "cell_type": "code",
   "execution_count": 21,
   "id": "227e9bff-b251-45f4-a01f-f76102d718ad",
   "metadata": {},
   "outputs": [],
   "source": [
    "# Predict on test set\n",
    "Z1_test = X_test @ W1 + b1\n",
    "A1_test = relu(Z1_test)\n",
    "Z2_test = A1_test @ W2 + b2\n",
    "A2_test = relu(Z2_test)\n",
    "Z3_test = A2_test @ W3 + b3\n",
    "y_test_pred = Z3_test\n",
    "\n",
    "# Invert scaling\n",
    "y_test_actual = scaler_y.inverse_transform(y_test)\n",
    "y_pred_actual = scaler_y.inverse_transform(y_test_pred)\n"
   ]
  },
  {
   "cell_type": "code",
   "execution_count": 23,
   "id": "ed2853bf-95f2-44ca-9c26-826d7a22a739",
   "metadata": {},
   "outputs": [
    {
     "name": "stdout",
     "output_type": "stream",
     "text": [
      "\n",
      "Test Loss (MSE): 1.0458\n"
     ]
    }
   ],
   "source": [
    "# Predict and calculate test MSE\n",
    "# -------------------------------\n",
    "Z1_test = X_test @ W1 + b1\n",
    "A1_test = relu(Z1_test)\n",
    "\n",
    "Z2_test = A1_test @ W2 + b2\n",
    "A2_test = relu(Z2_test)\n",
    "\n",
    "Z3_test = A2_test @ W3 + b3\n",
    "y_test_pred = Z3_test  # Final prediction\n",
    "\n",
    "# Calculate Test Loss (MSE)\n",
    "test_loss = np.mean((y_test - y_test_pred) ** 2)\n",
    "print(f\"\\nTest Loss (MSE): {test_loss:.4f}\")"
   ]
  },
  {
   "cell_type": "code",
   "execution_count": 25,
   "id": "98f78869-ce77-46aa-bf28-969d05e34895",
   "metadata": {},
   "outputs": [
    {
     "name": "stdout",
     "output_type": "stream",
     "text": [
      "\n",
      "Sample Predictions:\n",
      "Actual: 25.00, Predicted: 22.13\n",
      "Actual: 18.60, Predicted: 22.13\n",
      "Actual: 21.00, Predicted: 22.13\n",
      "Actual: 23.50, Predicted: 22.13\n",
      "Actual: 17.50, Predicted: 22.13\n"
     ]
    }
   ],
   "source": [
    "# Convert scaled predictions back\n",
    "# -------------------------------\n",
    "y_test_actual = scaler_y.inverse_transform(y_test)\n",
    "y_pred_actual = scaler_y.inverse_transform(y_test_pred)\n",
    "\n",
    "# -------------------------------\n",
    "# Show Sample Predictions\n",
    "# -------------------------------\n",
    "print(\"\\nSample Predictions:\")\n",
    "for actual, predicted in zip(y_test_actual[:5], y_pred_actual[:5]):\n",
    "    print(f\"Actual: {actual[0]:.2f}, Predicted: {predicted[0]:.2f}\")"
   ]
  },
  {
   "cell_type": "code",
   "execution_count": null,
   "id": "87f781c2-ef94-4ae6-98ea-28439694da03",
   "metadata": {},
   "outputs": [],
   "source": []
  }
 ],
 "metadata": {
  "kernelspec": {
   "display_name": "Python 3 (ipykernel)",
   "language": "python",
   "name": "python3"
  },
  "language_info": {
   "codemirror_mode": {
    "name": "ipython",
    "version": 3
   },
   "file_extension": ".py",
   "mimetype": "text/x-python",
   "name": "python",
   "nbconvert_exporter": "python",
   "pygments_lexer": "ipython3",
   "version": "3.12.7"
  }
 },
 "nbformat": 4,
 "nbformat_minor": 5
}
